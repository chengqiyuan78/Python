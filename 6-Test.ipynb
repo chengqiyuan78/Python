{
 "cells": [
  {
   "cell_type": "code",
   "execution_count": null,
   "metadata": {},
   "outputs": [],
   "source": [
    "https://docs.python.org/3/library/unittest.html"
   ]
  },
  {
   "cell_type": "code",
   "execution_count": null,
   "metadata": {},
   "outputs": [],
   "source": [
    "https://realpython.com/python-testing/"
   ]
  },
  {
   "cell_type": "code",
   "execution_count": null,
   "metadata": {},
   "outputs": [],
   "source": [
    "https://docs.python-guide.org/writing/tests/"
   ]
  },
  {
   "cell_type": "code",
   "execution_count": null,
   "metadata": {},
   "outputs": [],
   "source": [
    "Nose 运行时自动自动搜寻以test_开头的文件\n",
    "1.用于引入nose以及待测试模块的语句\n",
    "2.实际用于测试模块的函数\n",
    "3.用于触发测试函数的函数调用\n",
    "测试函数名称必须以test_开头"
   ]
  },
  {
   "cell_type": "code",
   "execution_count": null,
   "metadata": {},
   "outputs": [],
   "source": [
    "temperatury.py\n",
    "def to_celsius(t):\n",
    "    return (t-32.0)*5.0/9.0\n",
    "def above_freezing(t):\n",
    "    return t>0"
   ]
  },
  {
   "cell_type": "code",
   "execution_count": null,
   "metadata": {},
   "outputs": [],
   "source": [
    "test_temperature.py\n",
    "import nose\n",
    "import temperature\n",
    "def test_to_celsius():\n",
    "    pass\n",
    "def test_above_freezing():\n",
    "    pass\n",
    "if __name__==’__main__’:\n",
    "    nose.runmodule()\n",
    "temp_with_doc.py\n",
    "def to_celsius(t):\n",
    "    return round ((t-32.0)*5/9)\n",
    "def above_freezing(t):\n",
    "    return t>0\n",
    "\n"
   ]
  },
  {
   "cell_type": "code",
   "execution_count": null,
   "metadata": {},
   "outputs": [],
   "source": [
    "assert.py\n",
    "import nose\n",
    "from temp_with_doc import to_celsius\n",
    "def test_freezing():\n",
    "    assert to_celsius(32)==0\n",
    "def test_boiling():\n",
    "    assert to_celsius(212)==100\n",
    "def test_roundoff():\n",
    "    assert to_celsius(100)==38， ‘xxxxxxxxx’\n",
    "if __name__==’__main__’:\n",
    "    nose.runmodule()\n"
   ]
  },
  {
   "cell_type": "code",
   "execution_count": null,
   "metadata": {},
   "outputs": [],
   "source": [
    "在assert语句后面加上描述性语句，debug fail时会输出错误提示，与assert语句以逗号分隔\n",
    "assert not 断言为否"
   ]
  },
  {
   "cell_type": "code",
   "execution_count": null,
   "metadata": {},
   "outputs": [],
   "source": [
    "test_freezing.py\n",
    "import nose\n",
    "from temp_with_doc import above_freezing\n",
    "def test_above_freezing():\n",
    "    assert above_freezing(89.4)\n",
    "    assert not above_freezing(-42)\n",
    "    assert not  above_freezing(0)\n",
    "if __name__==’__main__’:\n",
    "    nose.runmodule()\n",
    "这样不好，会使后面的断言短路，通常是编写许多小的测试函数，分别只测试少量的东西。\n"
   ]
  },
  {
   "cell_type": "code",
   "execution_count": null,
   "metadata": {},
   "outputs": [],
   "source": [
    "测试\n",
    "功能测试functional test\n",
    "用于检查系统整体的行为，就像最终用户所做的那样\n"
   ]
  },
  {
   "cell_type": "code",
   "execution_count": null,
   "metadata": {},
   "outputs": [],
   "source": [
    "单元测试unit test\n",
    "仅检查程序中的某个独立的组成部分\n",
    "每个单元测试之间互不影响\n",
    "测试中所操作的数据结构fixture只应使用一次\n"
   ]
  },
  {
   "cell_type": "code",
   "execution_count": null,
   "metadata": {},
   "outputs": [],
   "source": [
    "黑盒测试black-box testing\n",
    "仅考虑测试代码的输入和输出，而不管具体实现\n",
    "白盒测试\n",
    "测试人员可以深入了解程序的内部构造\n"
   ]
  },
  {
   "cell_type": "code",
   "execution_count": null,
   "metadata": {},
   "outputs": [],
   "source": [
    "回归测试regression testing\n",
    "在对代码做出修改之后重新进行测试\n"
   ]
  },
  {
   "cell_type": "code",
   "execution_count": null,
   "metadata": {},
   "outputs": [],
   "source": [
    "局限\n",
    "边界情况Boundary case，比如对空列表或仅含一个元素的列表进行排序\n",
    "最简有效情况simplest interesting case，比如对含两个元素的列表进行排序\n",
    "正常情况general case，比如对较长一点的列表进行排序\n",
    "预期失败情况，无效输入，不足输入，过量的输入\n"
   ]
  },
  {
   "cell_type": "code",
   "execution_count": null,
   "metadata": {},
   "outputs": [],
   "source": [
    "建立错误分类表\n",
    "数字方面：零，最大和最小的合法数字，比最大值和最小值小1和大1的数字\n",
    "数据结构方面：空的，仅含一个元素的，含有最大合法数量的元素的，含有重复元素的，含有别名值的\n",
    "搜索方面：找不到匹配项，找到一个匹配项，找到多个匹配项，所有内容均匹配\n"
   ]
  },
  {
   "cell_type": "code",
   "execution_count": null,
   "metadata": {},
   "outputs": [],
   "source": [
    "测试驱动开发TDD\n",
    "Test-Driven Development\n",
    "test case----->test code\n",
    "running_sum_tdd.py\n",
    "\n"
   ]
  }
 ],
 "metadata": {
  "kernelspec": {
   "display_name": "Python 2",
   "language": "python",
   "name": "python2"
  },
  "language_info": {
   "codemirror_mode": {
    "name": "ipython",
    "version": 3
   },
   "file_extension": ".py",
   "mimetype": "text/x-python",
   "name": "python",
   "nbconvert_exporter": "python",
   "pygments_lexer": "ipython3",
   "version": "3.5.2"
  },
  "toc": {
   "base_numbering": 1,
   "nav_menu": {},
   "number_sections": true,
   "sideBar": true,
   "skip_h1_title": false,
   "title_cell": "Table of Contents",
   "title_sidebar": "Contents",
   "toc_cell": false,
   "toc_position": {},
   "toc_section_display": true,
   "toc_window_display": false
  }
 },
 "nbformat": 4,
 "nbformat_minor": 2
}
