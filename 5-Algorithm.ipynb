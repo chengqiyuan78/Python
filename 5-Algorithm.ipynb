{
 "cells": [
  {
   "cell_type": "code",
   "execution_count": null,
   "metadata": {},
   "outputs": [],
   "source": [
    "def factorial(n):\n",
    "    if n == 1:\n",
    "        return 1\n",
    "    else:\n",
    "        return n * factorial(n-1)\n",
    "factorial(3)"
   ]
  },
  {
   "cell_type": "code",
   "execution_count": null,
   "metadata": {},
   "outputs": [],
   "source": [
    "def fibs(num):\n",
    "    result = [0, 1]\n",
    "    for i in range(num-2):\n",
    "        result.append(result[-2] + result[-1])\n",
    "    return result\n",
    "num = input('How many Fibonacci numbers do you want? ')\n",
    "\n",
    "print(fibs(num))"
   ]
  },
  {
   "cell_type": "code",
   "execution_count": null,
   "metadata": {},
   "outputs": [],
   "source": [
    "def power(x, n):\n",
    "    if n == 0:\n",
    "        return 1\n",
    "    else:\n",
    "        return x * power(x, n-1)"
   ]
  },
  {
   "cell_type": "markdown",
   "metadata": {},
   "source": [
    "# Search"
   ]
  },
  {
   "cell_type": "code",
   "execution_count": 6,
   "metadata": {},
   "outputs": [],
   "source": [
    "def linear_search(v, L):\n",
    "    '''Return the index of the first occurrence of v in list L, or return len(L)\n",
    "    if v is not in L.'''\n",
    "    i = 0\n",
    "    # Keep going until we reach the end of L or until we find v.\n",
    "    while i != len(L) and L[i] != v:\n",
    "        i = i + 1\n",
    "    return i"
   ]
  },
  {
   "cell_type": "code",
   "execution_count": 7,
   "metadata": {},
   "outputs": [],
   "source": [
    "def linear_search(v, L):\n",
    "    '''Return the index of the first occurrence of v in list L, or return len(L)\n",
    "    if v is not in L.'''\n",
    "    \n",
    "    i = 0\n",
    "    for value in L:\n",
    "        if value == v:\n",
    "            return i\n",
    "        i += 1\n",
    "    return len(L)"
   ]
  },
  {
   "cell_type": "code",
   "execution_count": 8,
   "metadata": {},
   "outputs": [],
   "source": [
    "def linear_search(v, L):\n",
    "    '''Return the index of the first occurrence of v in list L, or return len(L)\n",
    "    if v is not in L.'''\n",
    "    \n",
    "    # Add the sentinel.\n",
    "    L.append(v)\n",
    "    i = 0\n",
    "    \n",
    "    # Keep going until we find v.\n",
    "    while L[i] != v:\n",
    "        i = i + 1\n",
    "\n",
    "    # Remove the sentinel.\n",
    "    L.pop()\n",
    "\n",
    "    return i\n"
   ]
  },
  {
   "cell_type": "code",
   "execution_count": 9,
   "metadata": {},
   "outputs": [
    {
     "ename": "ImportError",
     "evalue": "No module named 'linear_search_1'",
     "output_type": "error",
     "traceback": [
      "\u001b[0;31m-------------------------------------------------------------------\u001b[0m",
      "\u001b[0;31mImportError\u001b[0m                       Traceback (most recent call last)",
      "\u001b[0;32m<ipython-input-9-0071bbe793d0>\u001b[0m in \u001b[0;36m<module>\u001b[0;34m\u001b[0m\n\u001b[1;32m      1\u001b[0m \u001b[0;32mimport\u001b[0m \u001b[0mtime\u001b[0m\u001b[0;34m\u001b[0m\u001b[0m\n\u001b[0;32m----> 2\u001b[0;31m \u001b[0;32mimport\u001b[0m \u001b[0mlinear_search_1\u001b[0m\u001b[0;34m\u001b[0m\u001b[0m\n\u001b[0m\u001b[1;32m      3\u001b[0m \u001b[0;32mimport\u001b[0m \u001b[0mlinear_search_2\u001b[0m\u001b[0;34m\u001b[0m\u001b[0m\n\u001b[1;32m      4\u001b[0m \u001b[0;32mimport\u001b[0m \u001b[0mlinear_search_3\u001b[0m\u001b[0;34m\u001b[0m\u001b[0m\n\u001b[1;32m      5\u001b[0m \u001b[0;34m\u001b[0m\u001b[0m\n",
      "\u001b[0;31mImportError\u001b[0m: No module named 'linear_search_1'"
     ]
    }
   ],
   "source": [
    "import time\n",
    "import linear_search_1\n",
    "import linear_search_2\n",
    "import linear_search_3\n",
    "\n",
    "def time_it(search, v, L):\n",
    "    '''Time how long it takes to run function search to find value v in list L.'''\n",
    "    \n",
    "    t1 = time.time()\n",
    "    search(v, L)\n",
    "    t2 = time.time()\n",
    "\n",
    "    return (t2 - t1) * 1000.\n",
    "\n",
    "def print_times(v, L):\n",
    "    '''Print the number of milliseconds it takes for linear_search(v, L) \n",
    "    to run for list.index, basic linear search, the for loop linear search, \n",
    "    and sentinel search.'''\n",
    "\n",
    "    # Get list.index's running time.\n",
    "    t1 = time.time()\n",
    "    L.index(v)\n",
    "    t2 = time.time()\n",
    "    index_time = (t2 - t1) * 1000.    \n",
    "    # Get the other three running times.\n",
    "    basic_time = time_it(linear_search_1.linear_search, v, L)\n",
    "    for_time = time_it(linear_search_2.linear_search, v, L)\n",
    "    sentinel_time = time_it(linear_search_3.linear_search, v, L)\n",
    "    \n",
    "    print(\"%d\\t%.02f\\t%.02f\\t%.02f\\t%.02f\" % \\\n",
    "        (v, basic_time, for_time, sentinel_time, index_time) )\n",
    "\n",
    "L = range(1000001)\n",
    "linear_search_1.linear_search(10, L)\n",
    "print_times(10, L)\n",
    "print_times(500000, L)\n",
    "print_times(1000000, L)"
   ]
  },
  {
   "cell_type": "code",
   "execution_count": null,
   "metadata": {},
   "outputs": [],
   "source": [
    "def binary_search(v, L):\n",
    "    \"\"\"Return the index of the leftmost occurrence of v in list L, or -1 if\n",
    "    v is not in L.\"\"\"\n",
    "\n",
    "    # Mark the left and right indices of the unknown section.\n",
    "    i = 0\n",
    "    j = len(L) - 1\n",
    "    \n",
    "    while i != j + 1:\n",
    "        m = (i + j) / 2\n",
    "        if L[m] < v:\n",
    "            i = m + 1\n",
    "        else:\n",
    "            j = m - 1\n",
    "\n",
    "    if 0 <= i < len(L) and L[i] == v:\n",
    "        return i\n",
    "    else:\n",
    "        return -1"
   ]
  },
  {
   "cell_type": "code",
   "execution_count": null,
   "metadata": {},
   "outputs": [],
   "source": [
    "'''Test binary search.'''\n",
    "\n",
    "import nose\n",
    "from binary_search import binary_search\n",
    "\n",
    "# The list to search with.\n",
    "VALUES = [1, 3, 4, 4, 5, 7, 9, 10]\n",
    "\n",
    "def test_first():\n",
    "    '''Test a value at the beginning of the list.'''\n",
    "    assert binary_search(1, VALUES) == 0\n",
    "\n",
    "def test_duplicate():\n",
    "    '''Test a duplicate value.'''\n",
    "    assert binary_search(4, VALUES) == 2\n",
    "\n",
    "def test_middle():\n",
    "    '''Test searching for the middle value.'''\n",
    "    assert binary_search(5, VALUES) == 4\n",
    "\n",
    "def test_last():\n",
    "    '''Test searching for the last value.'''\n",
    "    assert binary_search(10, VALUES) == 7\n",
    "\n",
    "def test_missing_start():\n",
    "    '''Test searching for a missing value at the start.'''\n",
    "    assert binary_search(-3, VALUES) == -1\n",
    "\n",
    "def test_missing_middle():\n",
    "    '''Test searching for a missing value in the middle.'''\n",
    "    assert binary_search(2, VALUES) == -1\n",
    "\n",
    "def test_missing_end():\n",
    "    '''Test searching for a missing value at the end.'''\n",
    "    assert binary_search(11, VALUES) == -1\n",
    "\n",
    "if __name__ == '__main__':\n",
    "    nose.runmodule()"
   ]
  },
  {
   "cell_type": "code",
   "execution_count": null,
   "metadata": {},
   "outputs": [],
   "source": [
    "linear_time.py\n",
    "binary_test.py   log(2,N)\n",
    "list.index() 是最快的，二分搜索以很快，比如刚好位于分界点\n"
   ]
  },
  {
   "cell_type": "code",
   "execution_count": null,
   "metadata": {},
   "outputs": [],
   "source": [
    "bisect\n",
    "bisect_left()    符合要求的最左索引\n",
    "bisect_right()\n",
    "insort_left()      插入\n",
    "insort_right()"
   ]
  },
  {
   "cell_type": "code",
   "execution_count": null,
   "metadata": {},
   "outputs": [],
   "source": [
    "import bisect\n",
    "def bin_sort(values):\n",
    "    result=[]\n",
    "    for v in values:\n",
    "        bisect.insort_left(result, v)\n",
    "    return result"
   ]
  },
  {
   "cell_type": "code",
   "execution_count": null,
   "metadata": {},
   "outputs": [],
   "source": [
    "def find_two_smallest(L):\n",
    "    smallest=min(L)\n",
    "    min1=L.index(smallest)\n",
    "    L.remove(smallest)\n",
    "    next_smallest=min(L)\n",
    "    min2=L.index(next_smallest)\n",
    "\n",
    "    L.insert(min1, smallest)\n",
    "    if min1<=min2:\n",
    "        min2 +=1\n",
    "    return (min1,min2)"
   ]
  },
  {
   "cell_type": "code",
   "execution_count": null,
   "metadata": {},
   "outputs": [],
   "source": [
    "def find_two_smallest(L):\n",
    "    temp_list=L[:]\n",
    "    temp_list.sort()\n",
    "    smallest=temp_list[0]\n",
    "    next_smallest=temp_list[1]\n",
    "    min1=L.index(smallest)\n",
    "    min2=L.index(next_smallest)\n",
    "    return (min1,min2)"
   ]
  },
  {
   "cell_type": "code",
   "execution_count": null,
   "metadata": {},
   "outputs": [],
   "source": [
    "def find_two_smallest(L):\n",
    "    if L[0]<L[1]:\n",
    "        min1,min2=0,1\n",
    "    else:\n",
    "        min2,min1=0,1\n",
    "    for i in range(2, len(L));\n",
    "        if L[i] < L[min]:\n",
    "            min2=min1\n",
    "            min1=i\n",
    "        elif L[i]< L[min2]:\n",
    "            min2=i\n",
    "    return (min1, min2)"
   ]
  },
  {
   "cell_type": "code",
   "execution_count": null,
   "metadata": {},
   "outputs": [],
   "source": [
    "profiling\n",
    "\n",
    "基于1400记录\n",
    "查找，移除，查找    1.117s\n",
    "排序，标记，索引    2.128s\n",
    "列表扫描                  1.472s       \n",
    "\n",
    "import time\n",
    "time.time()\n",
    "time.clock()\n"
   ]
  },
  {
   "cell_type": "markdown",
   "metadata": {},
   "source": [
    "# Sort"
   ]
  },
  {
   "cell_type": "code",
   "execution_count": null,
   "metadata": {},
   "outputs": [],
   "source": [
    "def find_largest(N, L):\n",
    "    \"\"\"Return the N largest values in L in order from smallest to largest.\"\"\"\n",
    "\n",
    "    copy = L[:]\n",
    "    copy.sort()\n",
    "    return copy[:N]\n"
   ]
  },
  {
   "cell_type": "code",
   "execution_count": null,
   "metadata": {},
   "outputs": [],
   "source": [
    "def selection_sort(L):\n",
    "    \"\"\"Reorder the items in L from smallest to largest.\"\"\"\n",
    "\n",
    "    i = 0\n",
    "    while i != len(L):\n",
    "        # Find the index of the smallest item in L[i:].\n",
    "        # Swap that smallest item with L[i].\n",
    "        i = i + 1\n",
    "\n"
   ]
  },
  {
   "cell_type": "code",
   "execution_count": null,
   "metadata": {},
   "outputs": [],
   "source": [
    "def selection_sort(L):\n",
    "    \"\"\"Reorder the values in L from smallest to largest.\"\"\"\n",
    "\n",
    "    i = 0\n",
    "    while i != len(L):\n",
    "        # Find the index of the smallest item in L[i:].\n",
    "        L[i], L[smallest] = L[smallest], L[i]\n",
    "        i = i + 1\n"
   ]
  },
  {
   "cell_type": "code",
   "execution_count": null,
   "metadata": {},
   "outputs": [],
   "source": [
    "def selection_sort(L):\n",
    "    \"\"\"Reorder the values in L from smallest to largest.\"\"\"\n",
    "\n",
    "    i = 0\n",
    "    while i != len(L):\n",
    "        smallest = find_min(L, i)\n",
    "        L[i], L[smallest] = L[smallest], L[i]\n",
    "        i = i + 1\n",
    "\n",
    "def find_min(L, b):\n",
    "    \"\"\"Return the index of the smallest value in L[b:].\"\"\"\n",
    "\n",
    "    smallest = b # The index of the smallest so far.\n",
    "    i = b + 1\n",
    "    while i != len(L):\n",
    "        if L[i] < L[smallest]:\n",
    "            # We found a smaller item at L[i].\n",
    "            smallest = i\n",
    "            \n",
    "        i = i + 1\n",
    "\n",
    "    return smallest\n",
    "\n"
   ]
  },
  {
   "cell_type": "code",
   "execution_count": null,
   "metadata": {},
   "outputs": [],
   "source": [
    "from sort4 import selection_sort\n",
    "import nose\n",
    "\n",
    "def run_test(original, expected):\n",
    "    '''Sort list original and compare it to list expected.'''\n",
    "    selection_sort(original)\n",
    "    assert original == expected\n",
    "\n",
    "def test_empty():\n",
    "    '''Test sorting empty list.'''\n",
    "    run_test([], [])\n",
    "\n",
    "def test_one():\n",
    "    '''Test sorting a list of one value.'''\n",
    "    run_test([1], [1])\n",
    "\n",
    "def test_two_ordered():\n",
    "    '''Test sorting an already-sorted list of two values.'''\n",
    "    run_test([1, 2], [1, 2])\n",
    "\n",
    "def test_two_reversed():\n",
    "    '''Test sorting a reverse-ordered list of two values.'''\n",
    "    run_test([2, 1], [1, 2])\n",
    "\n",
    "def test_three_identical():\n",
    "    '''Test sorting a list of three equal values.'''\n",
    "    run_test([3, 3, 3], [3, 3, 3])\n",
    "\n",
    "def test_three_split():\n",
    "    '''Test sorting a list with an odd value out.'''\n",
    "    run_test([3, 0, 3], [0, 3, 3])\n",
    "\n",
    "if __name__ == '__main__':\n",
    "    nose.runmodule()\n"
   ]
  },
  {
   "cell_type": "code",
   "execution_count": null,
   "metadata": {},
   "outputs": [],
   "source": [
    "def insertion_sort(L):\n",
    "    \"\"\"Reorder the values in L from smallest to largest.\"\"\"\n",
    "\n",
    "    i = 0\n",
    "    while i != len(L):\n",
    "        # Insert L[i] where it belongs in L[0:i+1].\n",
    "        i = i + 1\n"
   ]
  },
  {
   "cell_type": "code",
   "execution_count": null,
   "metadata": {},
   "outputs": [],
   "source": [
    "def insertion_sort(L):\n",
    "    \"\"\"Reorder the values in L from smallest to largest.\"\"\"\n",
    "\n",
    "    i = 0\n",
    "    while i != len(L):\n",
    "        insert(L, i)\n",
    "        i = i + 1\n",
    "\n",
    "def insert(L, b):\n",
    "    \"\"\"Insert L[b] where it belongs in L[0:b + 1]; \n",
    "       L[0:b - 1] must already be sorted.\"\"\"\n",
    "\n",
    "    # Find where to insert L[b] by searching backwards from L[b] for a smaller item.\n",
    "    i = b\n",
    "    while i != 0 and L[i - 1] >= L[b]:\n",
    "        i = i - 1\n",
    "\n",
    "    # Move L[b] to index i, shifting the following values to the right.\n",
    "    value = L[b]\n",
    "    del L[b]\n",
    "    L.insert(i, value)\n"
   ]
  },
  {
   "cell_type": "code",
   "execution_count": null,
   "metadata": {},
   "outputs": [],
   "source": [
    "import time\n",
    "from sort4 import selection_sort\n",
    "from sort7 import insertion_sort\n",
    "from ms import mergesort\n",
    "\n",
    "def built_in(L):\n",
    "    '''Call list.sort --- we need our own function to do this\n",
    "    so that we can treat it as we treat our own sorts.'''\n",
    "    L.sort()\n",
    "\n",
    "def print_times(L):\n",
    "    '''Print the number of milliseconds it takes for selection sort\n",
    "    and insertion sort to run.'''\n",
    "    print len(L),\n",
    "    for func in (selection_sort, insertion_sort, mergesort, built_in):\n",
    "        if func in (selection_sort, insertion_sort) and len(L) > 4000:\n",
    "            continue\n",
    "            \n",
    "        L_copy = L[:]\n",
    "        t1 = time.time()\n",
    "        func(L_copy)\n",
    "        t2 = time.time()\n",
    "        print \"\\t%.1f\" % ((t2 - t1) * 1000.),\n",
    "    print\n",
    "\n",
    "for list_size in [10, 1000, 2000, 3000, 4000, 5000, 10000, 20000, 40000, 80000]:\n",
    "    L = range(list_size)\n",
    "    L.reverse()\n",
    "    print_times(L)"
   ]
  },
  {
   "cell_type": "code",
   "execution_count": null,
   "metadata": {},
   "outputs": [],
   "source": [
    "def merge(L1, L2):\n",
    "    newL = []\n",
    "    i1 = 0\n",
    "    i2 = 0\n",
    "\n",
    "    while i1 != len(L1) and i2 != len(L2):\n",
    "        if L1[i1] <= L2[i2]:\n",
    "            newL.append(L1[i1])\n",
    "            i1 += 1\n",
    "        else:\n",
    "            newL.append(L2[i2])\n",
    "            i2 += 1\n",
    "\n",
    "    newL.extend(L1[i1:])\n",
    "    newL.extend(L2[i2:])\n",
    "    return newL\n",
    "\n",
    "\n",
    "def mergesort(L):\n",
    "    workspace = []\n",
    "    for i in range(len(L)):\n",
    "        workspace.append([L[i]])\n",
    "    i = 0\n",
    "    while i < len(workspace) - 1:\n",
    "        L1 = workspace[i]\n",
    "        L2 = workspace[i + 1]\n",
    "        newL = merge(L1, L2)\n",
    "        workspace.append(newL)\n",
    "        i += 2\n",
    "\n",
    "    if len(workspace) != 0:\n",
    "        L[:] = workspace[-1][:]\n",
    "\n",
    "时间复杂度N*log(2,N)"
   ]
  }
 ],
 "metadata": {
  "kernelspec": {
   "display_name": "Python 2",
   "language": "python",
   "name": "python2"
  },
  "language_info": {
   "codemirror_mode": {
    "name": "ipython",
    "version": 3
   },
   "file_extension": ".py",
   "mimetype": "text/x-python",
   "name": "python",
   "nbconvert_exporter": "python",
   "pygments_lexer": "ipython3",
   "version": "3.8.3"
  },
  "toc": {
   "base_numbering": 1,
   "nav_menu": {},
   "number_sections": true,
   "sideBar": true,
   "skip_h1_title": false,
   "title_cell": "Table of Contents",
   "title_sidebar": "Contents",
   "toc_cell": false,
   "toc_position": {},
   "toc_section_display": true,
   "toc_window_display": false
  }
 },
 "nbformat": 4,
 "nbformat_minor": 2
}
