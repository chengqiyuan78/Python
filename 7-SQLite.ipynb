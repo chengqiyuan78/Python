{
 "cells": [
  {
   "cell_type": "code",
   "execution_count": null,
   "metadata": {},
   "outputs": [],
   "source": [
    "\n",
    "不需要通过DBMS，可直接访问数据，并且将整个数据库保存在单个文件中\n"
   ]
  },
  {
   "cell_type": "code",
   "execution_count": null,
   "metadata": {},
   "outputs": [],
   "source": [
    "sql语句\n",
    "CREATE TABLE TableName(ColumnName Type, ColumnName Type, ….)\n",
    "INSERT INTO TableName VALUES(Value1, Value2, …..)\n",
    "SELECT ColumnName, ColumnName,.... FROM Table\n",
    "DROP TABLE Tablename\n"
   ]
  },
  {
   "cell_type": "code",
   "execution_count": null,
   "metadata": {},
   "outputs": [],
   "source": [
    "sqlite数据类型\n",
    "NULL         \n",
    "INTEGER\n",
    "REAL              float8字节浮点数\n",
    "TEXT              字符串，默认Unicode,字符串前缀u，但是python本身默认为ASCII,\n",
    "BLOB              buffer二进制数据Binary Large Object 图片，音频，或者其他字节序列\n"
   ]
  },
  {
   "cell_type": "code",
   "execution_count": null,
   "metadata": {},
   "outputs": [],
   "source": [
    "连接\n",
    "import sqlite3 as dbapi\n",
    "con=dbapi.connect(‘population.db’)       参数为路径，若不存在则新建\n",
    "cur=con.cursor()\n"
   ]
  },
  {
   "cell_type": "code",
   "execution_count": null,
   "metadata": {},
   "outputs": [],
   "source": [
    "创建\n",
    "cur.execute('CREATE TABLE PopByRegion(Region TEXT, Population INTEGER)')\n"
   ]
  },
  {
   "cell_type": "code",
   "execution_count": null,
   "metadata": {},
   "outputs": [],
   "source": [
    "插入\n",
    "cur.execute('INSERT INTO PopByRegion VALUES(\"Central Africa\", 330993)')\n",
    "cur.execute('INSERT INTO PopByRegion VALUES(\"Southeastern Africa\", 743112)')\n",
    "cur.execute('INSERT INTO PopByRegion VALUES(\"Japan\", 100562)')\n"
   ]
  },
  {
   "cell_type": "code",
   "execution_count": null,
   "metadata": {},
   "outputs": [],
   "source": [
    "保存\n",
    "con.commit()\n"
   ]
  },
  {
   "cell_type": "code",
   "execution_count": null,
   "metadata": {},
   "outputs": [],
   "source": [
    "查询\n",
    "cur.execute('SELECT Region, Population FROM PopByRegion')\n",
    "cur.execute(‘SELECT Region, Population FROM PopByRegion ORDER BY Region’)\n",
    "cur.execute(‘SELECT Region, Population FROM PopByRegion ORDER BY Region ASC’)\n",
    "ASC升序，DESC降序\n",
    "cur.execute(‘SELECT * FROM PopByRegion’)\n",
    "cur.execute(‘SELECT Region FROM PopByRegion WHERE Population > 1000’)\n",
    "cur.execute(‘SELECT * FROM PopByRegion WHERE Region= “Japan”’)\n",
    "cur.execute(‘SELECT Region FROM PopByRegion \n",
    "                    WHERE Population > 1000 AND Region < “L”’)    还可使用OR, NOT\n"
   ]
  },
  {
   "cell_type": "code",
   "execution_count": null,
   "metadata": {},
   "outputs": [],
   "source": [
    "\n",
    "\n",
    "更新\n",
    "cur.execute(‘UPDATE PopByRegion SET  Population=10060 WHERE Region=”Japan”’)\n"
   ]
  },
  {
   "cell_type": "code",
   "execution_count": null,
   "metadata": {},
   "outputs": [],
   "source": [
    "删除\n",
    "cur.execute(‘DELETE FROM PopByRegion WHERE Population < “L”’)\n",
    "cur.execute(‘DROP TABLE PopByRegion’)\n",
    "DROP要求目标表没有外部依赖，所以在执行DROP之前要先修改表与表之间的外键约束\n",
    "\n"
   ]
  },
  {
   "cell_type": "code",
   "execution_count": null,
   "metadata": {},
   "outputs": [],
   "source": [
    "\n",
    "\n",
    "print cur.fetchone()     以元组的形式返回每条记录，为空时返回None，默认Unicode\n",
    "con.text_factory=str\n",
    "print cur.fetchone()     返回str类型字符串\n",
    "print cur.fetchall()       返回查询产生的全部数据\n"
   ]
  },
  {
   "cell_type": "code",
   "execution_count": null,
   "metadata": {},
   "outputs": [],
   "source": [
    "事务transaction\n",
    "对数据库操作的一个封装，撤销操作时需要回滚roll back\n"
   ]
  },
  {
   "cell_type": "code",
   "execution_count": null,
   "metadata": {},
   "outputs": [],
   "source": [
    "借书\n",
    "cur.execute('SELECT SignedOut FROM Books WHERE ISBN = \"%s\"' % isbn)\n",
    "signedOut = cur.fetchone()[0]\n",
    "cur.execute('UPDATE Books SET SignedOut = %d\n",
    "             WHERE ISBN = \"%s\"' % (signedOut + 1, isbn))\n",
    "cur.commit()\n"
   ]
  },
  {
   "cell_type": "code",
   "execution_count": null,
   "metadata": {},
   "outputs": [],
   "source": [
    "\n",
    "还书\n",
    "cur.execute('SELECT SignedOut FROM Books WHERE ISBN = \"%s\"' % isbn)\n",
    "signedOut = cur.fetchone()[0]\n",
    "cur.execute('UPDATE Books SET SignedOut = %d\n",
    "             WHERE ISBN = \"%s\"' % (signedOut - 1, isbn))\n",
    "cur.commit()\n",
    "\n"
   ]
  },
  {
   "cell_type": "code",
   "execution_count": null,
   "metadata": {},
   "outputs": [],
   "source": [
    "缺失值\n",
    "cur.execute(‘CREATE TABLE Test (Region TEXT NOT NULL, Population INTEGER)’)\n",
    "有时用0，空字符串，false要比NULL更合适，当你对数据一无所知时，应该只用NULL\n",
    "表的连接join\n",
    "cur.execute('CREATE TABLE PopByCountry(Region TEXT, Country TEXT,\n",
    "                 Population INTEGER)')\n",
    "                          \n",
    "countries = [(\"Eastern Asia\", \"DPR Korea\", 24056), (\"Eastern Asia\",\n",
    "\"Hong Kong (China)\", 8764), (\"Eastern Asia\", \"Mongolia\", 3407), (\"Eastern\n",
    "Asia\", \"Republic of Korea\", 41491), (\"Eastern Asia\", \"Taiwan\", 1433),\n",
    "(\"North America\", \"Bahamas\", 368), (\"North America\", \"Canada\", 40876),\n",
    "(\"North America\", \"Greenland\", 43), (\"North America\", \"Mexico\", 126875),\n",
    "(\"North America\", \"United States\", 493038)]\n"
   ]
  },
  {
   "cell_type": "code",
   "execution_count": null,
   "metadata": {},
   "outputs": [],
   "source": [
    "循环插入\n",
    "for c in countries:\n",
    "    cur.execute('INSERT INTO PopByCountry VALUES (?, ?, ?)', (c[0], c[1], c[2]))\n",
    "con.commit()\n",
    "\n"
   ]
  },
  {
   "cell_type": "code",
   "execution_count": null,
   "metadata": {},
   "outputs": [],
   "source": [
    "内连接\n",
    "INNER JOIN\n",
    "cross product\n",
    "cur.execute('''SELECT PopByRegion.Region, PopByCountry.Country\n",
    "                     FROM   PopByRegion INNER JOIN PopByCountry\n",
    "                     WHERE  (PopByRegion.Region = PopByCountry.Region)\n",
    "                     AND    (PopByRegion.Population > 1000000)''')\n",
    "print cur.fetchall()\n",
    "\n",
    "cur.execute('''SELECT PopByRegion.Region\n",
    "                     FROM PopByRegion INNER JOIN PopByCountry\n",
    "                     WHERE (PopByRegion.Region = PopByCountry.Region)\n",
    "                     AND ((PopByCountry.Population * 1.0) / PopByRegion.Population > 0.10)''')\n",
    "print cur.fetchall()\n"
   ]
  },
  {
   "cell_type": "code",
   "execution_count": null,
   "metadata": {},
   "outputs": [],
   "source": [
    "去除重复项\n",
    "cur.execute('''SELECT DISTINCT PopByRegion.Region\n",
    "                     FROM PopByRegion INNER JOIN PopByCountry\n",
    "                     WHERE (PopByRegion.Region = PopByCountry.Region)\n",
    "                     AND ((PopByCountry.Population * 1.0) / PopByRegion.Population > 0.10)''')\n",
    "print cur.fetchall()\n"
   ]
  },
  {
   "cell_type": "code",
   "execution_count": null,
   "metadata": {},
   "outputs": [],
   "source": [
    "\n",
    "键和约束\n",
    "键值是唯一的\n",
    "\n",
    "主键primary key\n",
    "cur.execute('CREATE TABLE PopByRegion (Region TEXT NOT NULL,\n",
    "                   Population INTEGER NOT NULL, PRIMARY KEY (Region))');\n",
    "多个主键\n",
    "cur.execute('''CREATE TABLE PopByCountry(Region TEXT NOT NULL,\n",
    "                    Country TEXT NOT NULL,\n",
    "                    Population INTEGER NOT NULL,\n",
    "                    CONSTRAINT Country_Key PRIMARY KEY (Region, Country))''')\n",
    "\n",
    "外键foreign key\n",
    "\n"
   ]
  },
  {
   "cell_type": "code",
   "execution_count": null,
   "metadata": {},
   "outputs": [],
   "source": [
    "\n",
    "聚合\n",
    "cur.execute('SELECT SUM (Population) FROM PopByRegion')\n",
    "\n",
    "聚合函数\n",
    "AVG\n",
    "MIN\n",
    "MAX\n",
    "COUNT   非空值的数量\n",
    "SUM       \n",
    "ABS\n"
   ]
  },
  {
   "cell_type": "code",
   "execution_count": null,
   "metadata": {},
   "outputs": [],
   "source": [
    "\n",
    "分组\n",
    "cur.execute('SELECT SUM (Population) FROM PopByCountry GROUP BY Region')\n",
    "\n"
   ]
  },
  {
   "cell_type": "code",
   "execution_count": null,
   "metadata": {},
   "outputs": [],
   "source": [
    "自连接\n",
    "对一个表中不同行的值进行比较\n",
    "cur.execute('''SELECT A.Country, B.Country\n",
    "                     FROM   PopByCountry A INNER JOIN PopByCountry B\n",
    "                     WHERE  (ABS(A.Population - B.Population) <= 1000)\n",
    "                     AND    (A.Country != B.Country)''')\n",
    "加上 A.Country< B.Country可以去掉重复\n"
   ]
  },
  {
   "cell_type": "code",
   "execution_count": null,
   "metadata": {},
   "outputs": [],
   "source": [
    "嵌套查询\n",
    "nested query\n",
    "cur.execute('''SELECT DISTINCT Region\n",
    "                     FROM                    PopByCountry\n",
    "                     WHERE                  (PopByCountry.Population != 8764)''')"
   ]
  },
  {
   "cell_type": "code",
   "execution_count": null,
   "metadata": {},
   "outputs": [],
   "source": [
    "无法获得正确结果\n",
    "\n",
    "cur.execute('''SELECT DISTINCT Region\n",
    "                     FROM                    PopByCountry\n",
    "                     WHERE                  Region NOT IN\n",
    "                                   (SELECT DISTINCT Region\n",
    "                                     FROM                    PopByCountry\n",
    "                                     WHERE                  (PopByCountry.Population = 8764))''')\n",
    "嵌套查询常常被用于处理含有否定推断的问题\n"
   ]
  }
 ],
 "metadata": {
  "kernelspec": {
   "display_name": "Python 2",
   "language": "python",
   "name": "python2"
  },
  "language_info": {
   "codemirror_mode": {
    "name": "ipython",
    "version": 3
   },
   "file_extension": ".py",
   "mimetype": "text/x-python",
   "name": "python",
   "nbconvert_exporter": "python",
   "pygments_lexer": "ipython3",
   "version": "3.5.2"
  },
  "toc": {
   "base_numbering": 1,
   "nav_menu": {},
   "number_sections": true,
   "sideBar": true,
   "skip_h1_title": false,
   "title_cell": "Table of Contents",
   "title_sidebar": "Contents",
   "toc_cell": false,
   "toc_position": {},
   "toc_section_display": true,
   "toc_window_display": false
  }
 },
 "nbformat": 4,
 "nbformat_minor": 2
}
